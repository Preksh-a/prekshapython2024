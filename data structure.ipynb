#Create list wth same data type
a = [1,2,3,4,5,6,7,8,9,10]
print(a)

#Create list wth same data type
a = [1,2,3,4,5,6,7,8,9,10]
print(a)
