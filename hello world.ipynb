a=10
print(a)
b=3.14
name='nayan'
print(a,b,name + "all are happy" +"all are not happy")
