#Adding Items
num.add(56)
num

#Removing Items
num.remove(4)
num

#Union
set1 = {1,2,3,4,5,99}
set2 = {4,5,6,7,8,9,10,99}
set1 | set2

#Interection
set1 & set2

#Difference
set1 - set2
