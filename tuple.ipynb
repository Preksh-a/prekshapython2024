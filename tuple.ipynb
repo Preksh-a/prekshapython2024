tup = (10,20,30,40,50)
print(tup)


#Accessing Items in a Tuple
print(tup[2])
