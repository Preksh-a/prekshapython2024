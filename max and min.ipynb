num = [11,12,13,14,15]
print("Maximum:",max(num))
print("Minimum:",min(num))
