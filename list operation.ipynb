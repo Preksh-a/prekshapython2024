#Accessing Items
print(a[0])
print(a[-1])
