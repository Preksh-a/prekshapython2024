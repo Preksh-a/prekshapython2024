#Manipulating lists
fruits = ["apple","mango","guva","grapes"]
fruits.append("cherry")
fruits.remove("grapes")
fruits

#Creating a Dictionary
book = {"tittle":"Python Basics","author":"John Doe","year":"2021"}
print(book["tittle"])
book["year"]=2022
print(book)

#Working with Sets
set1 = {1,2,3,4,5}
set2 = {3,4,5,6,7}
print(set1 | set2)
print(set1 & set2)
print(set1 - set2)
