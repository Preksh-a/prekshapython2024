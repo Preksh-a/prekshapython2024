person = {"name":"Chiru","colour":"White","height":"5.6"}
print("Name:",person["name"])
person["height"]=6.1
print("Updated Height:",person["height"])
