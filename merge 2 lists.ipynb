list1 = [1,2,3,4,5,6]
list2 = [7,8,9,10,11,12]
merged_list = list1 + list2
print("Merged List:",merged_list)
