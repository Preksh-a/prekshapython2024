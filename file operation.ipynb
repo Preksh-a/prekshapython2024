#Opening a file
file = open("sample","mode")
