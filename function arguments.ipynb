#Positional Arguments
def add(a,b):
  return a+b

print(add(5,3))

#Keyword Arguments
def greet(name, message):
  print(message + "," + name + "!")
greet(name="Alice" , message="Good Morning")

#Default Arguments
def greet(name, message="Hello"):
  print(message + "," + name + "!")
greet("Alice")
greet("Bob","Hi")
