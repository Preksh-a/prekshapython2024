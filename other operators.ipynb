#len
len(a)

#Sort
a.sort()
a

#Reverse
a.reverse()
a
