import math

angle = float(input("Enter an angle in degrees: "))
radian = math.radians(angle)
print("Since of angle:",math.sin(radian))
print("Cosine of angle:",math.cos(radian))
