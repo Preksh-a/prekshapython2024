num = input("eter a num: ")
if num == num[::-1]:
  print("palindrome")
else:
  print("not palindrome")

x = input("enter a num:")
if x == x[::-1]:
  print(True)

else:
  print(false)

