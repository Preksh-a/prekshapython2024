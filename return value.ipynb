def square(num):
   return num * num
result = square(4)
print("Square is",result)

def square(num):
   return num * num
print(square(5))
