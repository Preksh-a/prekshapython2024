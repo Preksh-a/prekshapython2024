age = 18
if age >= 18:
    print("You are elligable to vote")
