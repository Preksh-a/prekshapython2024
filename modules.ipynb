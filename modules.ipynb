#Import Modules
import math
print(math.sqrt(16))

#Import Specific Function
from math import pi, sin
print(pi)
print(sin(math.radians(90)))
